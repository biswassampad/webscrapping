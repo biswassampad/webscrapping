{
 "cells": [
  {
   "cell_type": "code",
   "execution_count": 2,
   "metadata": {},
   "outputs": [],
   "source": [
    "import requests\n",
    "from bs4 import BeautifulSoup"
   ]
  },
  {
   "cell_type": "code",
   "execution_count": 4,
   "metadata": {},
   "outputs": [
    {
     "data": {
      "text/plain": [
       "<Response [200]>"
      ]
     },
     "execution_count": 4,
     "metadata": {},
     "output_type": "execute_result"
    }
   ],
   "source": [
    "url = \"https://biography.yourdictionary.com/articles/how-did-bruce-lee-die.html\"\n",
    "response = requests.get(url)\n",
    "response"
   ]
  },
  {
   "cell_type": "code",
   "execution_count": 5,
   "metadata": {},
   "outputs": [],
   "source": [
    "soup = BeautifulSoup(response.text,'html.parser')"
   ]
  },
  {
   "cell_type": "code",
   "execution_count": null,
   "metadata": {},
   "outputs": [],
   "source": []
  },
  {
   "cell_type": "code",
   "execution_count": 9,
   "metadata": {},
   "outputs": [
    {
     "data": {
      "text/plain": [
       "' With a nickname like \"The Dragon,\" Bruce Lee undeniably lived at the top of the martial arts pyramid. So, when a powerhouse like him laid down at the age of 32 and never woke again, the world was stunned. '"
      ]
     },
     "execution_count": 9,
     "metadata": {},
     "output_type": "execute_result"
    }
   ],
   "source": [
    "paragraph=soup.p.text\n",
    "paragraph"
   ]
  },
  {
   "cell_type": "code",
   "execution_count": 10,
   "metadata": {},
   "outputs": [
    {
     "data": {
      "text/plain": [
       "' With a nickname like \"The Dragon,\" Bruce Lee undeniably lived at the top of the martial arts pyramid. So, when a powerhouse like him laid down at the age of 32 and never woke again, the world was stunned. -parsed-'"
      ]
     },
     "execution_count": 10,
     "metadata": {},
     "output_type": "execute_result"
    }
   ],
   "source": [
    "updated_para = paragraph + '-parsed-'\n",
    "updated_para"
   ]
  },
  {
   "cell_type": "code",
   "execution_count": 16,
   "metadata": {},
   "outputs": [],
   "source": [
    "# getting all the paragraphs\n",
    "all_para = soup.findAll('p')"
   ]
  },
  {
   "cell_type": "code",
   "execution_count": 23,
   "metadata": {},
   "outputs": [
    {
     "name": "stdout",
     "output_type": "stream",
     "text": [
      " With a nickname like \"The Dragon,\" Bruce Lee undeniably lived at the top of the martial arts pyramid. So, when a powerhouse like him laid down at the age of 32 and never woke again, the world was stunned. \n",
      " One of the most in-depth biographies on Lee makes the assertion that he \"wasn't just an entertainer; he was an evangelist.\" That's quite a testament to Bruce Lee's impact on other people and their decisions to embark upon a lifelong journey with martial arts. \n",
      " It seemed as though Bruce Lee could take down a fiery dragon if faced with one. Yet, he died on July 20, 1973 -- at the tender age of 32. How could a man of enviable strength and skill just drop dead in his early thirties? Really, how did Bruce Lee die? \n",
      " Lee's final film Enter the Dragon went down in history as one of the most successful martial arts movies of all time. In fact, his hand strikes were so fast, the camera speed had to be adjusted. \n",
      " During its filming, on May 10, 1973, Lee collapsed and was rushed to Hong Kong Baptist Hospital. The doctors diagnosed him with cerebral edema, or brain swelling due to excess fluid. They reduced the swelling by administering mannitol, a drug known to decrease intracranial pressure, but this wasn't the last Lee would succumb to the treachery of cerebral edema. \n",
      " On July 20, 1973, Lee met with producer Raymond Chow and then drove to actress Betty Ting Pei's house to go over their scripts. After Lee complained of a headache, Ting gave him some Equagesic, a pill containing aspirin and a tranquilizer. Lee took the tablet, laid down for a nap, and never woke again. \n",
      " Bruce Lee's death was ruled \"death by misadventure.\" Coroners stated he had a severe allergic reaction to the tranquilizer in Equagesic, causing his brain to swell. When you consider his May hospitalization, it all seemed to add up. \n",
      " Or did it all add up? How Bruce Lee died seemed very mysterious to some. How could a man with superhuman strength and talent drop dead at such a young age? To no surprise, the rumor mill heated and everything from a family curse to an attack by the Chinese mafia hit the headlines as causes for his death. \n",
      " One rumor started to swirl that a jealous kung fu master with magical superpowers laid the touch of death - dim mak in Cantonese - on Lee, thus sealing his fate. \n",
      " The press also learned of Lee's affinity for marijuana and that singular factoid turned into false accusations of heavy drug usage. (Even back in the '70s, fake news existed.) \n",
      " Biographer Matthew Polly offers another angle. In his book, Polly spends some time on the notion that heat stroke was the cause of Lee's death. Lee had his sweat glands removed from his armpits because he didn't like the look of sweat stains on his clothes. \n",
      " Polly asserts that it's common for victims of heat stroke to experience swelling of the brain. In fact, according to Polly, Lee died on one of the hottest days on record in Hong Kong history. \n",
      " Bruce Lee was born Lee Jun Fan on November 27, 1940 in San Francisco's Chinatown. He was born in the hour of the dragon (from 6 a.m. to 8 a.m.) in the year of the dragon. According to Chinese astrology, this is a powerful omen for a life that would greatly impact other people. \n",
      " Lee grew up in Hong Kong. When he lost a street fight to a local gang in Hong Kong, he began studying Wing Chun, a traditional form of Southern Chinese kung fu. Since there was so much violence in Hong Kong, his parents decided to send him back to the US to get an education. After living in San Francisco for a while, Lee moved to Seattle where he waited tables and taught martial arts. \n",
      " In 1963, Lee opened two martial arts studios, and the next year, he gave a demonstration of his skills at the International Karate Championships in Long Beach, California. He demonstrated his now famous \"One Inch Punch,\" a punch that stops an inch from the opponent's torso, followed by another punch that can propel an opponent backward several feet into the air. \n",
      " Lee has over 30 movie credits to his name, and IMDB goes so far as to say it's doubtful the martial arts film genre would've penetrated mainstream North America without his iconic moves. \n",
      " In 1970, Bruce Lee visited Hong Kong with his young son, Brandon. There, he was offered a part on The Big Boss. It was a huge success and made him famous overnight. After that, he starred in Fist of Fury, followed by Way of the Dragon, which he starred in and directed. He showed his signature nunchaku skill by using two sets at the same time \n",
      " Believe it or not, Lee wasn't an American hero during his lifetime. In fact, he was virtually unknown in the United States while he lived. \n",
      " His last movie, Enter the Dragon, was released less than a month after his mysterious death, and it created the perfect recipe for stardom. His acting skills were magnanimous; his fighting skills were superhuman; and his death was shocking. It was a trifecta for the creation of a cultural icon. \n",
      " While it's true everyone loves a good mystery, or conspiracy theory, this is a tragic one. Bruce Lee inspired people across the globe to refine their craft and become masterful martial artists. \n",
      " How many people are masters of anything in the way Lee was? Why not cozy up on the couch this weekend and savor the wonder of Enter the Dragon? Even if it doesn't inspire you to go out and earn a black belt, it's bound to inspire you toward some level of greatness. Sprinkle in a few of these inspirational sayings and you've got yourself a recipe for success. \n",
      "\n",
      "\n",
      "\n",
      "MLA Style\n",
      "APA Style\n",
      "\n",
      "\n",
      "\n",
      "\n",
      "\n",
      "\n",
      "\n",
      "\n",
      "\n",
      "\n",
      "\n",
      "                Yes, I'd like to receive Word of the Day emails from YourDictionary.com\n",
      "            \n",
      "\n",
      "\n",
      "\n",
      "\t\t\t\tBy continuing, you agree to our\n",
      "\t\t\t\tTerms of Use\n",
      "\t\t\t\tand\n",
      "\t\t\t\tPrivacy Policy.\n",
      "\t\t\t\n",
      "\n",
      "Please set a username for yourself.\n",
      "            People will see it as Author Name with your public flash cards.\n",
      "        \n"
     ]
    }
   ],
   "source": [
    "for i in all_para:\n",
    "         print(i.text)"
   ]
  }
 ],
 "metadata": {
  "kernelspec": {
   "display_name": "Python 3",
   "language": "python",
   "name": "python3"
  },
  "language_info": {
   "codemirror_mode": {
    "name": "ipython",
    "version": 3
   },
   "file_extension": ".py",
   "mimetype": "text/x-python",
   "name": "python",
   "nbconvert_exporter": "python",
   "pygments_lexer": "ipython3",
   "version": "3.7.4"
  }
 },
 "nbformat": 4,
 "nbformat_minor": 2
}
